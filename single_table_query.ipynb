{
 "cells": [
  {
   "cell_type": "code",
   "execution_count": null,
   "metadata": {},
   "outputs": [],
   "source": [
    "from os import environ\n",
    "from dotenv import load_dotenv\n",
    "load_dotenv()\n",
    "\n",
    "import logging\n",
    "from logging.config import fileConfig\n",
    "fileConfig(environ.get(\"LOG_CONFIG_FILE\"))\n",
    "logger = logging.getLogger(environ.get(\"LOGGER\"))\n",
    "\n",
    "from langchain import OpenAI\n",
    "llm = OpenAI(temperature=0) # default model is \"text-davinci-003\"\n",
    "\n",
    "from sqlalchemy import create_engine\n",
    "engine = create_engine(environ.get(\"DB_CON_STR\"))\n",
    "\n",
    "from configparser import ConfigParser\n",
    "configur = ConfigParser()\n",
    "\n",
    "from langchain import SQLDatabase\n",
    "sql_database = SQLDatabase(engine, include_tables=[\"city_stats\"])\n"
   ]
  },
  {
   "attachments": {},
   "cell_type": "markdown",
   "metadata": {},
   "source": [
    "### Query"
   ]
  },
  {
   "cell_type": "code",
   "execution_count": null,
   "metadata": {},
   "outputs": [],
   "source": [
    "from langchain import SQLDatabaseChain\n",
    "db_chain = SQLDatabaseChain(llm=llm, database=sql_database, verbose=True)\n",
    "queries = configur.read(environ.get(\"SINGLE_OBJ_Q\"))\n",
    "\n",
    "db_chain.run( configur.get('1.92','P') )"
   ]
  }
 ],
 "metadata": {
  "kernelspec": {
   "display_name": "base",
   "language": "python",
   "name": "python3"
  },
  "language_info": {
   "codemirror_mode": {
    "name": "ipython",
    "version": 3
   },
   "file_extension": ".py",
   "mimetype": "text/x-python",
   "name": "python",
   "nbconvert_exporter": "python",
   "pygments_lexer": "ipython3",
   "version": "3.9.13"
  },
  "orig_nbformat": 4,
  "vscode": {
   "interpreter": {
    "hash": "6478a66b7bed39169a51fb2d0f6bacbc95938ecb560dfa9f45c2d8732fb468bd"
   }
  }
 },
 "nbformat": 4,
 "nbformat_minor": 2
}
