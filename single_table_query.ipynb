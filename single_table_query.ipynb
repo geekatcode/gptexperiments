{
 "cells": [
  {
   "cell_type": "code",
   "execution_count": 2,
   "metadata": {},
   "outputs": [
    {
     "name": "stdout",
     "output_type": "stream",
     "text": [
      "2023-03-01 21:17:11,302 numexpr.utils INFO     NumExpr defaulting to 4 threads.\n"
     ]
    }
   ],
   "source": [
    "from os import environ\n",
    "from dotenv import load_dotenv\n",
    "load_dotenv()\n",
    "\n",
    "import logging\n",
    "from logging.config import fileConfig\n",
    "fileConfig(environ.get(\"LOG_CONFIG_FILE\"))\n",
    "logger = logging.getLogger(environ.get(\"LOGGER\"))\n",
    "\n",
    "from langchain import OpenAI\n",
    "llm = OpenAI(temperature=0) # default model is \"text-davinci-003\"\n",
    "\n",
    "from sqlalchemy import create_engine\n",
    "engine = create_engine(environ.get(\"DB_CON_STR\"))\n",
    "\n",
    "from configparser import ConfigParser\n",
    "configur = ConfigParser()\n",
    "\n",
    "from langchain import SQLDatabase\n",
    "sql_database = SQLDatabase(engine, include_tables=[\"city_stats\"])"
   ]
  },
  {
   "attachments": {},
   "cell_type": "markdown",
   "metadata": {},
   "source": [
    "### Query"
   ]
  },
  {
   "cell_type": "code",
   "execution_count": 3,
   "metadata": {},
   "outputs": [
    {
     "name": "stdout",
     "output_type": "stream",
     "text": [
      "\n",
      "\n",
      "\u001b[1m> Entering new SQLDatabaseChain chain...\u001b[0m\n",
      "Calculate percentage change in popuation annually for San Franciso \n",
      "SQLQuery:2023-03-01 21:17:15,634 openai       DEBUG    message='Request to OpenAI API' method=post path=https://api.openai.com/v1/completions\n",
      "2023-03-01 21:17:15,635 openai       DEBUG    api_version=None data='{\"prompt\": [\"Given an input question, first create a syntactically correct postgresql query to run, then look at the results of the query and return the answer. Unless the user specifies in his question a specific number of examples he wishes to obtain, always limit your query to at most 5 results using the LIMIT clause. You can order the results by a relevant column to return the most interesting examples in the database.\\\\n\\\\nNever query for all the columns from a specific table, only ask for a the few relevant columns given the question.\\\\n\\\\nPay attention to use only the column names that you can see in the schema description. Be careful to not query for columns that do not exist. Also, pay attention to which column is in which table.\\\\n\\\\nUse the following format:\\\\n\\\\nQuestion: \\\\\"Question here\\\\\"\\\\nSQLQuery: \\\\\"SQL Query to run\\\\\"\\\\nSQLResult: \\\\\"Result of the SQLQuery\\\\\"\\\\nAnswer: \\\\\"Final answer here\\\\\"\\\\n\\\\nOnly use the tables listed below.\\\\n\\\\n\\\\nCREATE TABLE city_stats (\\\\n\\\\tyear DATE, \\\\n\\\\tpopulation INTEGER, \\\\n\\\\tcity TEXT, \\\\n\\\\tcountry TEXT\\\\n)\\\\n\\\\nSELECT * FROM \\'city_stats\\' LIMIT 3;\\\\nyear population city country\\\\n2023-01-01 2085 Berlin Germany\\\\n2022-01-01 2085 Berlin Germany\\\\n2021-01-01 2085 Berlin Germany\\\\n\\\\nQuestion: Calculate percentage change in popuation annually for San Franciso \\\\nSQLQuery:\"], \"model\": \"text-davinci-003\", \"temperature\": 0.0, \"max_tokens\": 256, \"top_p\": 1, \"frequency_penalty\": 0, \"presence_penalty\": 0, \"n\": 1, \"best_of\": 1, \"logit_bias\": {}, \"stop\": [\"\\\\nSQLResult:\"]}' message='Post details'\n",
      "2023-03-01 21:17:18,937 openai       DEBUG    message='OpenAI API response' path=https://api.openai.com/v1/completions processing_ms=2947 request_id=7d58b39742faa616ef1e381148592fde response_code=200\n",
      "\u001b[32;1m\u001b[1;3m SELECT city, (population - LAG(population) OVER (ORDER BY year))/LAG(population) OVER (ORDER BY year) * 100 AS percentage_change FROM city_stats WHERE city = 'San Francisco' ORDER BY year DESC LIMIT 5;\u001b[0m\n",
      "SQLResult: \u001b[33;1m\u001b[1;3m[('San Francisco', 0), ('San Francisco', 0), ('San Francisco', None)]\u001b[0m\n",
      "Answer:2023-03-01 21:17:18,947 openai       DEBUG    message='Request to OpenAI API' method=post path=https://api.openai.com/v1/completions\n",
      "2023-03-01 21:17:18,947 openai       DEBUG    api_version=None data='{\"prompt\": [\"Given an input question, first create a syntactically correct postgresql query to run, then look at the results of the query and return the answer. Unless the user specifies in his question a specific number of examples he wishes to obtain, always limit your query to at most 5 results using the LIMIT clause. You can order the results by a relevant column to return the most interesting examples in the database.\\\\n\\\\nNever query for all the columns from a specific table, only ask for a the few relevant columns given the question.\\\\n\\\\nPay attention to use only the column names that you can see in the schema description. Be careful to not query for columns that do not exist. Also, pay attention to which column is in which table.\\\\n\\\\nUse the following format:\\\\n\\\\nQuestion: \\\\\"Question here\\\\\"\\\\nSQLQuery: \\\\\"SQL Query to run\\\\\"\\\\nSQLResult: \\\\\"Result of the SQLQuery\\\\\"\\\\nAnswer: \\\\\"Final answer here\\\\\"\\\\n\\\\nOnly use the tables listed below.\\\\n\\\\n\\\\nCREATE TABLE city_stats (\\\\n\\\\tyear DATE, \\\\n\\\\tpopulation INTEGER, \\\\n\\\\tcity TEXT, \\\\n\\\\tcountry TEXT\\\\n)\\\\n\\\\nSELECT * FROM \\'city_stats\\' LIMIT 3;\\\\nyear population city country\\\\n2023-01-01 2085 Berlin Germany\\\\n2022-01-01 2085 Berlin Germany\\\\n2021-01-01 2085 Berlin Germany\\\\n\\\\nQuestion: Calculate percentage change in popuation annually for San Franciso \\\\nSQLQuery: SELECT city, (population - LAG(population) OVER (ORDER BY year))/LAG(population) OVER (ORDER BY year) * 100 AS percentage_change FROM city_stats WHERE city = \\'San Francisco\\' ORDER BY year DESC LIMIT 5;\\\\nSQLResult: [(\\'San Francisco\\', 0), (\\'San Francisco\\', 0), (\\'San Francisco\\', None)]\\\\nAnswer:\"], \"model\": \"text-davinci-003\", \"temperature\": 0.0, \"max_tokens\": 256, \"top_p\": 1, \"frequency_penalty\": 0, \"presence_penalty\": 0, \"n\": 1, \"best_of\": 1, \"logit_bias\": {}, \"stop\": [\"\\\\nSQLResult:\"]}' message='Post details'\n",
      "2023-03-01 21:17:19,757 openai       DEBUG    message='OpenAI API response' path=https://api.openai.com/v1/completions processing_ms=656 request_id=75cf66c83b07e61cd1b88dcde7043b2e response_code=200\n",
      "\u001b[32;1m\u001b[1;3m The percentage change in population annually for San Francisco is 0%.\u001b[0m\n",
      "\u001b[1m> Finished chain.\u001b[0m\n"
     ]
    },
    {
     "data": {
      "text/plain": [
       "' The percentage change in population annually for San Francisco is 0%.'"
      ]
     },
     "execution_count": 3,
     "metadata": {},
     "output_type": "execute_result"
    }
   ],
   "source": [
    "from langchain import SQLDatabaseChain\n",
    "db_chain = SQLDatabaseChain(llm=llm, database=sql_database, verbose=True)\n",
    "queries = configur.read(environ.get(\"SINGLE_OBJ_Q\"))\n",
    "\n",
    "db_chain.run( configur.get('1.92','P') )"
   ]
  }
 ],
 "metadata": {
  "kernelspec": {
   "display_name": "base",
   "language": "python",
   "name": "python3"
  },
  "language_info": {
   "codemirror_mode": {
    "name": "ipython",
    "version": 3
   },
   "file_extension": ".py",
   "mimetype": "text/x-python",
   "name": "python",
   "nbconvert_exporter": "python",
   "pygments_lexer": "ipython3",
   "version": "3.9.13"
  },
  "orig_nbformat": 4,
  "vscode": {
   "interpreter": {
    "hash": "6478a66b7bed39169a51fb2d0f6bacbc95938ecb560dfa9f45c2d8732fb468bd"
   }
  }
 },
 "nbformat": 4,
 "nbformat_minor": 2
}
